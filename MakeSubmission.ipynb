{
 "cells": [
  {
   "cell_type": "code",
   "execution_count": 15,
   "metadata": {
    "collapsed": true
   },
   "outputs": [],
   "source": [
    "import xgboost as xgb\n",
    "import pandas as pd\n",
    "import numpy as np"
   ]
  },
  {
   "cell_type": "code",
   "execution_count": 16,
   "metadata": {
    "collapsed": false
   },
   "outputs": [],
   "source": [
    "model = xgb.Booster( model_file = './model' )\n",
    "df_test = pd.read_csv( './test_preprocessed.csv' )\n",
    "ids = df_test[ 'id' ]\n",
    "df_test.drop( ['id'], axis = 1, inplace = True )"
   ]
  },
  {
   "cell_type": "code",
   "execution_count": 17,
   "metadata": {
    "collapsed": true
   },
   "outputs": [],
   "source": [
    "dtest = xgb.DMatrix( df_test.values, feature_names = df_test.columns )\n",
    "ylog_pred = model.predict(dtest)\n",
    "y_pred = np.exp(ylog_pred) - 1\n",
    "\n",
    "df_sub = pd.DataFrame({'id': ids, 'price_doc': y_pred})\n",
    "\n",
    "df_sub.to_csv('.\\submission.csv', index=False)"
   ]
  }
 ],
 "metadata": {
  "kernelspec": {
   "display_name": "Python 2",
   "language": "python",
   "name": "python2"
  },
  "language_info": {
   "codemirror_mode": {
    "name": "ipython",
    "version": 2
   },
   "file_extension": ".py",
   "mimetype": "text/x-python",
   "name": "python",
   "nbconvert_exporter": "python",
   "pygments_lexer": "ipython2",
   "version": "2.7.13"
  }
 },
 "nbformat": 4,
 "nbformat_minor": 2
}
